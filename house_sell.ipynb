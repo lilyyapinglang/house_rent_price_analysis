{
 "cells": [
  {
   "attachments": {},
   "cell_type": "markdown",
   "metadata": {},
   "source": [
    "Questions\n",
    "\n",
    "For House sales :\n",
    "1. What is the average selling price for each district and subarea in Shanghai? How does this compare to the average rental price for each district and subarea?\n",
    "\n",
    "2. Can we find a subarea or compound where worth investing ? \n",
    "3. Are there any noticeable trends or patterns in the types of houses that are rented versus those that are sold (e.g. number of rooms, area size, location)?\n",
    "\n",
    "4. Are there any factors that significantly impact the selling price of a house (e.g. area size, number of rooms, location, floor level, age of the building)? How do these factors compare to those that impact rental prices?\n",
    "\n",
    "5. Can we predict the selling price of a house based on its characteristics (e.g. area size, number of rooms, location, floor level, age of the building)? How accurate are these predictions?\n",
    "\n",
    "6. Can we identify any specific features or amenities that significantly impact the rental price of a house (e.g. proximity to public transportation, availability of parking, access to outdoor space)?\n",
    "\n",
    "7. Are there any correlations between rental prices and demographic factors (e.g. age, income, education level) in different districts or subareas of Shanghai?\n",
    "\n",
    "8. Are there any noticeable differences in the selling and rental markets for houses that are located near metro stations versus those that are not?\n",
    "\n",
    "For rental yield :\n",
    "\n",
    "1. What is the average rental yield in different neighborhoods in Shanghai?\n",
    "2. How does the rental yield vary based on the size and layout of the apartment?\n",
    "3. Is there a correlation between rental yield and location of the property, such as proximity to public 4. transportation, shopping centers, schools, and other amenities?\n",
    "4. Are there certain building types or structures that tend to generate higher rental yields?\n",
    "5. How does the age of the property affect the rental yield?\n",
    "6. What is the rental yield trend over the past few years in different areas of Shanghai, and what factors 7. contribute to this trend?\n",
    "8. How does the vacancy rate in a particular area affect the rental yield?\n",
    "9. Are there any regulations or policies in place that may impact the rental yield of a property?\n",
    "10. How does the rental yield of an apartment compare to other investment options in Shanghai?\n",
    "11. How can rental yield be optimized through property management and maintenance strategies?"
   ]
  }
 ],
 "metadata": {
  "language_info": {
   "name": "python"
  },
  "orig_nbformat": 4
 },
 "nbformat": 4,
 "nbformat_minor": 2
}
